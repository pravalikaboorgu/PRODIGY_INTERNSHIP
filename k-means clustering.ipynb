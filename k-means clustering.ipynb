{
  "cells": [
    {
      "cell_type": "code",
      "execution_count": null,
      "metadata": {
        "id": "Zvi7A0ZGr3bk"
      },
      "outputs": [],
      "source": [
        "\n",
        "# IMPORTANT: RUN THIS CELL IN ORDER TO IMPORT YOUR KAGGLE DATA SOURCES\n",
        "# TO THE CORRECT LOCATION (/kaggle/input) IN YOUR NOTEBOOK,\n",
        "# THEN FEEL FREE TO DELETE THIS CELL.\n",
        "# NOTE: THIS NOTEBOOK ENVIRONMENT DIFFERS FROM KAGGLE'S PYTHON\n",
        "# ENVIRONMENT SO THERE MAY BE MISSING LIBRARIES USED BY YOUR\n",
        "# NOTEBOOK.\n",
        "\n",
        "import os\n",
        "import sys\n",
        "from tempfile import NamedTemporaryFile\n",
        "from urllib.request import urlopen\n",
        "from urllib.parse import unquote, urlparse\n",
        "from urllib.error import HTTPError\n",
        "from zipfile import ZipFile\n",
        "import tarfile\n",
        "import shutil\n",
        "\n",
        "CHUNK_SIZE = 40960\n",
        "DATA_SOURCE_MAPPING = 'customer-segmentation-tutorial-in-python:https%3A%2F%2Fstorage.googleapis.com%2Fkaggle-data-sets%2F42674%2F74935%2Fbundle%2Farchive.zip%3FX-Goog-Algorithm%3DGOOG4-RSA-SHA256%26X-Goog-Credential%3Dgcp-kaggle-com%2540kaggle-161607.iam.gserviceaccount.com%252F20240511%252Fauto%252Fstorage%252Fgoog4_request%26X-Goog-Date%3D20240511T080645Z%26X-Goog-Expires%3D259200%26X-Goog-SignedHeaders%3Dhost%26X-Goog-Signature%3D6b10234e7cf3adf1f6cfd116e690e2c2158bd67700a54503c1091808b9ca8400abed94d4e6fa19f71555ed682d7c9b0e58d6cba042f62db4e02be37b384f1ead91bcd0fba114871550dd59d15d4f3f28ebb4fa551c776de1a5bcb4d45c5d4a561acedc4f2534e062c90cf096aa7ccabf40ad444e100a347f542fb5d4593fe5c2636e82e59f55b784687ee526502d564fdf0778e4200e2dccae9c5106ed110716049da8687c7b496fe4e856e2e5b3f8b817bb4c17fc3eb1745a2d9a0b394a41a40243bff758d04ac7ddf179ff9445897086c0dd43c01eacffb78959d1d2edc82fd69e311da8a8fed4bc0bbb67088c788922b37f82fb378af65de55ec18b413490'\n",
        "\n",
        "KAGGLE_INPUT_PATH='/kaggle/input'\n",
        "KAGGLE_WORKING_PATH='/kaggle/working'\n",
        "KAGGLE_SYMLINK='kaggle'\n",
        "\n",
        "!umount /kaggle/input/ 2> /dev/null\n",
        "shutil.rmtree('/kaggle/input', ignore_errors=True)\n",
        "os.makedirs(KAGGLE_INPUT_PATH, 0o777, exist_ok=True)\n",
        "os.makedirs(KAGGLE_WORKING_PATH, 0o777, exist_ok=True)\n",
        "\n",
        "try:\n",
        "  os.symlink(KAGGLE_INPUT_PATH, os.path.join(\"..\", 'input'), target_is_directory=True)\n",
        "except FileExistsError:\n",
        "  pass\n",
        "try:\n",
        "  os.symlink(KAGGLE_WORKING_PATH, os.path.join(\"..\", 'working'), target_is_directory=True)\n",
        "except FileExistsError:\n",
        "  pass\n",
        "\n",
        "for data_source_mapping in DATA_SOURCE_MAPPING.split(','):\n",
        "    directory, download_url_encoded = data_source_mapping.split(':')\n",
        "    download_url = unquote(download_url_encoded)\n",
        "    filename = urlparse(download_url).path\n",
        "    destination_path = os.path.join(KAGGLE_INPUT_PATH, directory)\n",
        "    try:\n",
        "        with urlopen(download_url) as fileres, NamedTemporaryFile() as tfile:\n",
        "            total_length = fileres.headers['content-length']\n",
        "            print(f'Downloading {directory}, {total_length} bytes compressed')\n",
        "            dl = 0\n",
        "            data = fileres.read(CHUNK_SIZE)\n",
        "            while len(data) > 0:\n",
        "                dl += len(data)\n",
        "                tfile.write(data)\n",
        "                done = int(50 * dl / int(total_length))\n",
        "                sys.stdout.write(f\"\\r[{'=' * done}{' ' * (50-done)}] {dl} bytes downloaded\")\n",
        "                sys.stdout.flush()\n",
        "                data = fileres.read(CHUNK_SIZE)\n",
        "            if filename.endswith('.zip'):\n",
        "              with ZipFile(tfile) as zfile:\n",
        "                zfile.extractall(destination_path)\n",
        "            else:\n",
        "              with tarfile.open(tfile.name) as tarfile:\n",
        "                tarfile.extractall(destination_path)\n",
        "            print(f'\\nDownloaded and uncompressed: {directory}')\n",
        "    except HTTPError as e:\n",
        "        print(f'Failed to load (likely expired) {download_url} to path {destination_path}')\n",
        "        continue\n",
        "    except OSError as e:\n",
        "        print(f'Failed to load {download_url} to path {destination_path}')\n",
        "        continue\n",
        "\n",
        "print('Data source import complete.')\n"
      ]
    },
    {
      "cell_type": "code",
      "execution_count": null,
      "metadata": {
        "execution": {
          "iopub.execute_input": "2024-05-11T08:06:13.816476Z",
          "iopub.status.busy": "2024-05-11T08:06:13.81617Z",
          "iopub.status.idle": "2024-05-11T08:06:16.739471Z",
          "shell.execute_reply": "2024-05-11T08:06:16.738616Z",
          "shell.execute_reply.started": "2024-05-11T08:06:13.816449Z"
        },
        "id": "GiE0hKl4r3bm",
        "trusted": true
      },
      "outputs": [],
      "source": [
        "from sklearn.cluster import KMeans\n",
        "import pandas as pd\n",
        "from sklearn.preprocessing import MinMaxScaler\n",
        "from matplotlib import pyplot as plt\n",
        "%matplotlib inline"
      ]
    },
    {
      "cell_type": "code",
      "execution_count": null,
      "metadata": {
        "execution": {
          "iopub.execute_input": "2024-05-11T08:06:16.746947Z",
          "iopub.status.busy": "2024-05-11T08:06:16.74382Z",
          "iopub.status.idle": "2024-05-11T08:06:16.814999Z",
          "shell.execute_reply": "2024-05-11T08:06:16.814172Z",
          "shell.execute_reply.started": "2024-05-11T08:06:16.74689Z"
        },
        "id": "hIOjzRkFr3bn",
        "trusted": true
      },
      "outputs": [],
      "source": [
        "df = pd.read_csv(\"/kaggle/input/customer-segmentation-tutorial-in-python/Mall_Customers.csv\")\n",
        "df.head()"
      ]
    },
    {
      "cell_type": "code",
      "execution_count": null,
      "metadata": {
        "execution": {
          "iopub.execute_input": "2024-05-11T08:06:16.821866Z",
          "iopub.status.busy": "2024-05-11T08:06:16.818498Z",
          "iopub.status.idle": "2024-05-11T08:06:17.312229Z",
          "shell.execute_reply": "2024-05-11T08:06:17.311399Z",
          "shell.execute_reply.started": "2024-05-11T08:06:16.821835Z"
        },
        "id": "DzD7bqt6r3bn",
        "trusted": true
      },
      "outputs": [],
      "source": [
        "plt.scatter(df['Spending Score (1-100)'],df['Annual Income (k$)'])\n",
        "plt.xlabel(\"Spending Score (1-100)\")\n",
        "plt.ylabel('Annual Income (k$)')"
      ]
    },
    {
      "cell_type": "code",
      "execution_count": null,
      "metadata": {
        "execution": {
          "iopub.execute_input": "2024-05-11T08:06:17.320415Z",
          "iopub.status.busy": "2024-05-11T08:06:17.316732Z",
          "iopub.status.idle": "2024-05-11T08:06:17.32606Z",
          "shell.execute_reply": "2024-05-11T08:06:17.325174Z",
          "shell.execute_reply.started": "2024-05-11T08:06:17.320384Z"
        },
        "id": "3v6DJyjur3bn",
        "trusted": true
      },
      "outputs": [],
      "source": [
        "\n",
        "# scaler = MinMaxScaler()\n",
        "\n",
        "# scaler.fit(df[['Annual Income (k$)']])\n",
        "# df['Annual Income (k$)'] = scaler.transform(df[['Annual Income (k$)']])\n",
        "\n",
        "# scaler.fit(df[['Spending Score (1-100)']])\n",
        "# df['Spending Score (1-100)'] = scaler.transform(df[['Spending Score (1-100)']])"
      ]
    },
    {
      "cell_type": "code",
      "execution_count": null,
      "metadata": {
        "execution": {
          "iopub.execute_input": "2024-05-11T08:06:17.332966Z",
          "iopub.status.busy": "2024-05-11T08:06:17.329689Z",
          "iopub.status.idle": "2024-05-11T08:06:17.711853Z",
          "shell.execute_reply": "2024-05-11T08:06:17.711074Z",
          "shell.execute_reply.started": "2024-05-11T08:06:17.332937Z"
        },
        "id": "xgruvX-fr3bn",
        "trusted": true
      },
      "outputs": [],
      "source": [
        "sse = []\n",
        "k_rng = range(1,10)\n",
        "for k in k_rng:\n",
        "    km = KMeans(n_clusters=k)\n",
        "    km.fit(df[['Spending Score (1-100)','Annual Income (k$)']])\n",
        "    sse.append(km.inertia_)\n",
        "print(sse)"
      ]
    },
    {
      "cell_type": "code",
      "execution_count": null,
      "metadata": {
        "execution": {
          "iopub.execute_input": "2024-05-11T08:06:17.712892Z",
          "iopub.status.busy": "2024-05-11T08:06:17.712643Z",
          "iopub.status.idle": "2024-05-11T08:06:18.134084Z",
          "shell.execute_reply": "2024-05-11T08:06:18.133281Z",
          "shell.execute_reply.started": "2024-05-11T08:06:17.712869Z"
        },
        "id": "_bKK11hir3bo",
        "trusted": true
      },
      "outputs": [],
      "source": [
        "plt.xlabel('K')\n",
        "plt.ylabel('Sum of squared error')\n",
        "plt.plot(k_rng,sse)"
      ]
    },
    {
      "cell_type": "code",
      "execution_count": null,
      "metadata": {
        "execution": {
          "iopub.execute_input": "2024-05-11T08:06:18.135197Z",
          "iopub.status.busy": "2024-05-11T08:06:18.134917Z",
          "iopub.status.idle": "2024-05-11T08:06:18.179883Z",
          "shell.execute_reply": "2024-05-11T08:06:18.17916Z",
          "shell.execute_reply.started": "2024-05-11T08:06:18.135172Z"
        },
        "id": "UrykSQXPr3bo",
        "trusted": true
      },
      "outputs": [],
      "source": [
        "km = KMeans(n_clusters=4)\n",
        "y_predicted = km.fit_predict(df[['Spending Score (1-100)','Annual Income (k$)']])\n",
        "y_predicted"
      ]
    },
    {
      "cell_type": "code",
      "execution_count": null,
      "metadata": {
        "execution": {
          "iopub.execute_input": "2024-05-11T08:06:18.189329Z",
          "iopub.status.busy": "2024-05-11T08:06:18.183401Z",
          "iopub.status.idle": "2024-05-11T08:06:18.213677Z",
          "shell.execute_reply": "2024-05-11T08:06:18.212883Z",
          "shell.execute_reply.started": "2024-05-11T08:06:18.189298Z"
        },
        "id": "yt-OPwHer3bo",
        "trusted": true
      },
      "outputs": [],
      "source": [
        "df['cluster']=y_predicted\n",
        "df.head()"
      ]
    },
    {
      "cell_type": "code",
      "execution_count": null,
      "metadata": {
        "execution": {
          "iopub.execute_input": "2024-05-11T08:06:18.214705Z",
          "iopub.status.busy": "2024-05-11T08:06:18.214454Z",
          "iopub.status.idle": "2024-05-11T08:06:18.961766Z",
          "shell.execute_reply": "2024-05-11T08:06:18.960883Z",
          "shell.execute_reply.started": "2024-05-11T08:06:18.214682Z"
        },
        "id": "f91-humOr3bo",
        "trusted": true
      },
      "outputs": [],
      "source": [
        "df1 = df[df.cluster==0]\n",
        "df2 = df[df.cluster==1]\n",
        "df3 = df[df.cluster==2]\n",
        "df4 = df[df.cluster==3]\n",
        "plt.scatter(df1['Spending Score (1-100)'],df1['Annual Income (k$)'] ,color='green',label='1')\n",
        "plt.scatter(df2['Spending Score (1-100)'],df2['Annual Income (k$)'] ,color='red',label='2')\n",
        "plt.scatter(df3['Spending Score (1-100)'],df3['Annual Income (k$)'] ,color='black',label='3')\n",
        "plt.scatter(df4['Spending Score (1-100)'],df4['Annual Income (k$)'],color='blue',label='4')\n",
        "plt.scatter(km.cluster_centers_[:,0],km.cluster_centers_[:,1],color='purple',marker='*',label='centroid')\n",
        "plt.legend()\n"
      ]
    }
  ],
  "metadata": {
    "colab": {
      "name": "notebookd07c9b714f",
      "provenance": []
    },
    "kaggle": {
      "accelerator": "none",
      "dataSources": [
        {
          "datasetId": 42674,
          "sourceId": 74935,
          "sourceType": "datasetVersion"
        }
      ],
      "dockerImageVersionId": 30698,
      "isGpuEnabled": false,
      "isInternetEnabled": false,
      "language": "python",
      "sourceType": "notebook"
    },
    "kernelspec": {
      "display_name": "Python 3",
      "language": "python",
      "name": "python3"
    },
    "language_info": {
      "codemirror_mode": {
        "name": "ipython",
        "version": 3
      },
      "file_extension": ".py",
      "mimetype": "text/x-python",
      "name": "python",
      "nbconvert_exporter": "python",
      "pygments_lexer": "ipython3",
      "version": "3.10.13"
    }
  },
  "nbformat": 4,
  "nbformat_minor": 0
}
